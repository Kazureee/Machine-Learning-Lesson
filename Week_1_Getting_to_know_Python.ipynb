{
  "cells": [
    {
      "cell_type": "markdown",
      "metadata": {
        "id": "view-in-github",
        "colab_type": "text"
      },
      "source": [
        "<a href=\"https://colab.research.google.com/github/Kazureee/Machine-Learning-Lesson/blob/main/Week_1_Getting_to_know_Python.ipynb\" target=\"_parent\"><img src=\"https://colab.research.google.com/assets/colab-badge.svg\" alt=\"Open In Colab\"/></a>"
      ]
    },
    {
      "cell_type": "markdown",
      "id": "6cb684da",
      "metadata": {
        "id": "6cb684da"
      },
      "source": [
        "# Welcome to the Python Basics Notebook!\n",
        "\n",
        "Hi there! 👋\n",
        "\n",
        "In this notebook, you'll embark on a journey to learn the essentials of Python programming. We'll cover key concepts such as:\n",
        "\n",
        "- **Variable Assignment and Data Types:** Understand how to store and manipulate different types of data.\n",
        "- **Control Structures:** Learn to use conditional logic and loops to control the flow of your programs.\n",
        "- **Functions:** Discover how to create reusable blocks of code to perform specific tasks.\n",
        "- **Basic Input and Output:** Explore how to get user input and display information.\n",
        "- **Working with Libraries:** Get an introduction to using libraries like NumPy for numerical operations.\n",
        "- **Lists and Basic Indexing:** Master the art of managing and accessing data using lists.\n",
        "\n",
        "Our goal is to ensure you experience genuine learning and grasp these fundamental concepts effectively. Feel free to experiment with the exercises and try out different approaches. Remember to not use any `AI` products as to help you experience genuine logic thinking. Practice is key to mastering programming!\n",
        "\n",
        "Let's get started and have fun coding! 🚀"
      ]
    },
    {
      "cell_type": "markdown",
      "id": "f0ad8c57",
      "metadata": {
        "id": "f0ad8c57"
      },
      "source": [
        "# Variable Assignment and Data Types\n",
        "\n",
        "### 1. Variable Declaration and Assignment\n",
        "In Python, you don’t need to specify the data type when declaring variables. Python infers the type based on the value assigned. For example:\n",
        "\n",
        "```python\n",
        "x = 5         # An integer\n",
        "y = 3.14      # A float (decimal number)\n",
        "name = \"Machine Learning\"  # A string (text)\n",
        "```\n",
        "\n",
        "#### Notice\n",
        "- There’s no need to write the type (like **int**, **float**, or **String**) before the variable name.\n",
        "\n",
        "### 2. Dynamic Typing\n",
        "Python variables can change types dynamically. You can assign an integer, and later assign a string to the same variable:\n",
        "\n",
        "```python\n",
        "x = 10        # x is an integer\n",
        "x = \"Ten\"     # Now x is a string\n",
        "```\n",
        "\n",
        "However in `java`:\n",
        "```java\n",
        "int x = 10;     // x is an integer\n",
        "x = \"Ten\";      // Error: Incompatible types\n",
        "```\n",
        "\n",
        "### 3. Popular Data Types in Python\n",
        "- **Integers** (int): Whole numbers (e.g., 1, 100)\n",
        "- **Floats** (float): Numbers with decimals (e.g., 3.14, 0.99)\n",
        "- **Strings** (str): Text enclosed in quotes (e.g., \"Hello\", 'World')\n",
        "- **Booleans** (bool): True/False values (True, False)\n",
        "```python\n",
        "is_student = True    # Boolean\n",
        "age = 21             # Integer\n",
        "height = 5.9         # Float\n",
        "name = \"Alice\"       # String\n",
        "```\n",
        "\n",
        "---\n",
        "## Exercise: Practice Variable Assignment\n",
        "\n",
        "Now it's your turn! Let's practice what you’ve learned.\n",
        "\n",
        "Instructions:\n",
        "- Assign the integer 10 to the variable a.\n",
        "- Assign the float 2.5 to the variable b.\n",
        "- Assign the string \"Learning Python\" to the variable c.\n",
        "- Print the values of a, b, and c using the print() function."
      ]
    },
    {
      "cell_type": "code",
      "execution_count": null,
      "id": "0a9f63f8",
      "metadata": {
        "id": "0a9f63f8",
        "colab": {
          "base_uri": "https://localhost:8080/"
        },
        "outputId": "c8aced0b-676c-46f4-99eb-37d8f00499bd"
      },
      "outputs": [
        {
          "output_type": "stream",
          "name": "stdout",
          "text": [
            "10 2.5 Learning Python\n"
          ]
        }
      ],
      "source": [
        "#Enter code here. After you're done, press run beside the cell or press shift + enter: A\n",
        "a = 10"
      ]
    },
    {
      "cell_type": "code",
      "execution_count": null,
      "id": "d7ad0730",
      "metadata": {
        "id": "d7ad0730"
      },
      "outputs": [],
      "source": [
        "#Enter code here. After you're done, press run beside the cell or press shift + enter: B\n",
        "b = 2.5"
      ]
    },
    {
      "cell_type": "code",
      "execution_count": null,
      "id": "c955730c",
      "metadata": {
        "id": "c955730c"
      },
      "outputs": [],
      "source": [
        "#Enter code here. After you're done, press run beside the cell or press shift + enter: C\n",
        "c = \"Learning Python\"\n",
        "print(a,b,c)"
      ]
    },
    {
      "cell_type": "markdown",
      "id": "91623e73",
      "metadata": {
        "id": "91623e73"
      },
      "source": [
        "# Control Structures in Python\n",
        "\n",
        "### 1. Conditional Statements: `if`, `elif`, and `else`\n",
        "\n",
        "In Python, conditional statements allow you to execute specific blocks of code based on certain conditions.\n",
        "\n",
        "### Python Example:\n",
        "```python\n",
        "x = 10\n",
        "\n",
        "if x > 5:\n",
        "    print(\"x is greater than 5\")\n",
        "elif x == 5:\n",
        "    print(\"x is equal to 5\")\n",
        "else:\n",
        "    print(\"x is less than 5\")\n",
        "```\n",
        "**Notice:**\n",
        "\n",
        "- Python uses indentation (spaces or tabs) to define blocks of code. There are no `curly braces {}` like in Java.\n",
        "The conditions end with a `colon :`.\n",
        "\n",
        "### 2. Loops: `for` and `while`\n",
        "\n",
        "#### 2.1 The for Loop\n",
        "In Python, for loops are typically used to iterate over a sequence (like a list, tuple, or string).\n",
        "```python\n",
        "# Looping through a list\n",
        "numbers = [1, 2, 3, 4, 5]\n",
        "for num in numbers:\n",
        "    print(num)\n",
        "```\n",
        "\n",
        "#### 2.2 The while Loop\n",
        "A while loop runs as long as a specified condition is True.\n",
        "```python\n",
        "i = 0\n",
        "while i < 5:\n",
        "    print(i)\n",
        "    i += 1  # This is equivalent to i = i + 1\n",
        "```\n",
        "\n",
        "---\n",
        "## Exercise: Practice Control Structures\n",
        "Instructions:\n",
        "1. Create a variable age and assign it a value of 18.\n",
        "\n",
        "    Write an if-elif-else statement that:\n",
        "    \n",
        "    Prints \"You are a minor\" if age is less than 18.\n",
        "    \n",
        "    Prints \"You are an adult\" if age is 18.\n",
        "    \n",
        "    Prints \"You are above 18\" if age is greater than 18.\n",
        "2. Create a for loop that prints the even numbers from 1 through 10.\n",
        "3. Create a while loop that prints the odd numbers from 10 through 1."
      ]
    },
    {
      "cell_type": "code",
      "execution_count": 1,
      "id": "ca7b0c35",
      "metadata": {
        "id": "ca7b0c35",
        "colab": {
          "base_uri": "https://localhost:8080/"
        },
        "outputId": "d45f9e7a-02e4-4ea8-d173-3ab61649b1db"
      },
      "outputs": [
        {
          "output_type": "stream",
          "name": "stdout",
          "text": [
            "You are an adult\n"
          ]
        }
      ],
      "source": [
        "#Enter your answer for number 1\n",
        "age = 18\n",
        "if age < 18:\n",
        "  print (\"You are a minor\")\n",
        "elif age == 18:\n",
        "  print (\"You are an adult\")\n",
        "else:\n",
        "  print (\"You are above 18\")"
      ]
    },
    {
      "cell_type": "code",
      "execution_count": 17,
      "id": "ab6d8610",
      "metadata": {
        "id": "ab6d8610",
        "colab": {
          "base_uri": "https://localhost:8080/"
        },
        "outputId": "d099720e-36f2-4f7d-da06-987e19cd616e"
      },
      "outputs": [
        {
          "output_type": "stream",
          "name": "stdout",
          "text": [
            "[2, 4, 6, 8, 10]\n"
          ]
        }
      ],
      "source": [
        "#Enter your answer for number 2\n",
        "numbers = [1,2,3,4,5,6,7,8,9,10]\n",
        "even_num = [num for num in numbers if num % 2 == 0]\n",
        "print (even_num)"
      ]
    },
    {
      "cell_type": "code",
      "execution_count": 23,
      "id": "d628624e",
      "metadata": {
        "id": "d628624e",
        "colab": {
          "base_uri": "https://localhost:8080/"
        },
        "outputId": "06b01b24-5621-488a-f799-986c1da4aaf4"
      },
      "outputs": [
        {
          "output_type": "stream",
          "name": "stdout",
          "text": [
            "9\n",
            "7\n",
            "5\n",
            "3\n",
            "1\n"
          ]
        }
      ],
      "source": [
        "#Enter your answer for number 3\n",
        "i = 10\n",
        "while i > 0:\n",
        "  if i % 2 != 0:\n",
        "    print (i)\n",
        "  i -= 1"
      ]
    },
    {
      "cell_type": "markdown",
      "id": "8983900a",
      "metadata": {
        "id": "8983900a"
      },
      "source": [
        "# Functions in Python\n",
        "\n",
        "Functions are blocks of reusable code that perform specific tasks. In Python, functions are defined using the `def` keyword.\n",
        "\n",
        "## 1. Defining Functions\n",
        "\n",
        "A function in Python is defined using the `def` keyword, followed by the function name, parentheses `()`, and a colon `:`. The function body is indented.\n",
        "\n",
        "### Python Example:\n",
        "```python\n",
        "def greet():\n",
        "    print(\"Hello, welcome to the Python tutorial!\")\n",
        "```\n",
        "\n",
        "**How to call the function:**\n",
        "```python\n",
        "greet()\n",
        "```\n",
        "## 2. Function Arguments\n",
        "\n",
        "Functions can accept inputs called arguments. You can define parameters inside the parentheses of the function definition.\n",
        "\n",
        "```python\n",
        "def greet(name):\n",
        "    print(f\"Hello, {name}!\")\n",
        "\n",
        "# Calling the function\n",
        "greet(\"Alice\")\n",
        "```\n",
        "## 3. Returning values from the Functions\n",
        "\n",
        "Functions can return a result using the return keyword\n",
        "\n",
        "```python\n",
        "def add (a,b):\n",
        "    return a+b\n",
        "\n",
        "#Calling the function\n",
        "result = add(3,4)\n",
        "print(result) #Output: 7\n",
        "```\n",
        "\n",
        "## 4. Default Arguments\n",
        "\n",
        "You can assign default values to parameters in PYthon. This is useful when you want a function to have optional arguments.\n",
        "\n",
        "```python\n",
        "def greet(name = \"Guest\"):\n",
        "    print(f\"Hello, {name}!\")\n",
        "\n",
        "#Calling the function\n",
        "greet() #Output: Hello Guest!\n",
        "greet(\"Alice\") #Output: Hello Alice!\n",
        "```\n",
        "\n",
        "---\n",
        "\n",
        "## Excerice: Practice Functions\n",
        "\n",
        "\t1.\tDefine a function multiply that takes two arguments a and b and returns their product.\n",
        "\t2.\tDefine a function introduce that takes a name and age as arguments and prints \"My name is <name> and I am <age> years old.\". Give the age parameter a default value of 18.\n",
        "\t3.\tCall the multiply function with the arguments 5 and 3, and print the result.\n",
        "\t4.\tCall the introduce function twice: once with only the name, and once with both the name and age."
      ]
    },
    {
      "cell_type": "code",
      "execution_count": 48,
      "id": "18ae49d8",
      "metadata": {
        "id": "18ae49d8",
        "colab": {
          "base_uri": "https://localhost:8080/"
        },
        "outputId": "6cdcce6a-2481-4965-cda0-f27e24ca53e5"
      },
      "outputs": [
        {
          "output_type": "stream",
          "name": "stdout",
          "text": [
            "40\n"
          ]
        }
      ],
      "source": [
        "#Enter your answer for #1\n",
        "def multiply(a,b):\n",
        "  return a*b\n"
      ]
    },
    {
      "cell_type": "code",
      "execution_count": 59,
      "id": "d991c78f",
      "metadata": {
        "id": "d991c78f"
      },
      "outputs": [],
      "source": [
        "#Enter your answer for #2\n",
        "def greet(name, age = 18):\n",
        "    print(f\"My name is {name} and I am {age} years old\")"
      ]
    },
    {
      "cell_type": "code",
      "execution_count": 52,
      "id": "4ebf2e20",
      "metadata": {
        "id": "4ebf2e20",
        "colab": {
          "base_uri": "https://localhost:8080/"
        },
        "outputId": "4994ad21-7d54-4a67-91a5-dc11d933c3f2"
      },
      "outputs": [
        {
          "output_type": "stream",
          "name": "stdout",
          "text": [
            "15\n"
          ]
        }
      ],
      "source": [
        "#Enter your answer for #3\n",
        "result = multiply(5,3)\n",
        "print(result)"
      ]
    },
    {
      "cell_type": "code",
      "execution_count": 62,
      "id": "43f22370",
      "metadata": {
        "id": "43f22370",
        "colab": {
          "base_uri": "https://localhost:8080/"
        },
        "outputId": "6a85183b-d035-49db-94e0-31d17aa85595"
      },
      "outputs": [
        {
          "output_type": "stream",
          "name": "stdout",
          "text": [
            "My name is Charles and I am 18 years old\n",
            "My name is Charles and I am 22 years old\n"
          ]
        }
      ],
      "source": [
        "#Enter your answer for #4\n",
        "greet(\"Charles\")\n",
        "greet(\"Charles\", 22)"
      ]
    },
    {
      "cell_type": "markdown",
      "id": "afc8dd5f",
      "metadata": {
        "id": "afc8dd5f"
      },
      "source": [
        "# Basic Input and Output (I/O) in Python\n",
        "\n",
        "In Python, basic I/O operations are handled using the `input()` function for taking user input and the `print()` function for displaying output.\n",
        "\n",
        "## 1. Using `input()` to Get User Input\n",
        "\n",
        "The `input()` function is used to take input from the user. It always returns the input as a string.\n",
        "\n",
        "### Python Example:\n",
        "```python\n",
        "name = input(\"Enter your name: \")\n",
        "print(f\"Hello, {name}!\")\n",
        "```\n",
        "\n",
        "In this example:\n",
        "\n",
        "\t•\tThe message inside input() (\"Enter your name: \") is displayed as a prompt.\n",
        "\t•\tThe user’s input is stored in the variable name.\n",
        "\t•\tThe print() function then displays a greeting with the user’s input.\n",
        "\n",
        "## 2. Using print() to display output\n",
        "The print() function is used to display information on the screen.\n",
        "```python\n",
        "name = \"Alice\"\n",
        "age = 25\n",
        "print(\"Name:\", name)\n",
        "print(\"Age:\", age)\n",
        "```\n",
        "\n",
        "**Formatted Output with f-strings**\n",
        "\n",
        "Python allows for formatted strings using f-strings, which makes it easier to include variables within text.\n",
        "\n",
        "```python\n",
        "name = \"Alice\"\n",
        "age = 25\n",
        "print(f\"My name is {name} and I am {age} years old.\")\n",
        "```\n",
        "---\n",
        "## Exercise: Practice Basic I/O\n",
        "\n",
        "Instructions:\n",
        "\n",
        "\t1.\tUse input() to ask the user for their name and age.\n",
        "\t2.\tConvert the age to an integer.\n",
        "\t3.\tPrint a message using print() that says: \"Hello, <name>. You are <age> years old.\""
      ]
    },
    {
      "cell_type": "code",
      "execution_count": null,
      "id": "2099b4bb",
      "metadata": {
        "id": "2099b4bb"
      },
      "outputs": [],
      "source": [
        "# Enter answer here"
      ]
    },
    {
      "cell_type": "markdown",
      "id": "2e5da883",
      "metadata": {
        "id": "2e5da883"
      },
      "source": [
        "# Working with Libraries in Python\n",
        "\n",
        "Libraries are collections of pre-written code that you can use to perform common tasks without having to write the code from scratch. In Python, you can import libraries to extend the functionality of your programs. One commonly used library for numerical operations is NumPy.\n",
        "\n",
        "## 1. Importing Libraries\n",
        "\n",
        "To use a library, you first need to import it into your Python script. The `import` statement is used for this purpose.\n",
        "\n",
        "### Python Example:\n",
        "```python\n",
        "import numpy as np\n",
        "```\n",
        "In this example:\n",
        "\n",
        "\t•\tnumpy is the name of the library.\n",
        "\t•\tnp is an alias for numpy, making it shorter to reference in your code.\n",
        "    \n",
        "## 2. Using NumPy\n",
        "NumPy is a powerful library for numerical operations. It provides support for arrays and matrices, along with a collection of mathematical functions.\n",
        "\n",
        "**Creating Arrays**\n",
        "\n",
        "You can create arrays using NumPy’s array() function.\n",
        "\n",
        "```python\n",
        "import numpy as np\n",
        "\n",
        "# Creating a NumPy array\n",
        "array = np.array([1, 2, 3, 4, 5])\n",
        "print(array)\n",
        "```\n",
        "\n",
        "**Output**\n",
        "```python\n",
        "[1,2,3,4,5]\n",
        "```\n",
        "\n",
        "**Basic Operations**\n",
        "\n",
        "You can perform mathematical operations on NumPy arrays efficiently.\n",
        "```python\n",
        "import numpy as np\n",
        "\n",
        "# Creating two arrays\n",
        "array1 = np.array([1, 2, 3])\n",
        "array2 = np.array([4, 5, 6])\n",
        "\n",
        "# Performing element-wise addition\n",
        "result = array1 + array2\n",
        "print(result)\n",
        "```\n",
        "\n",
        "**Output**\n",
        "```python\n",
        "[5 7 9]\n",
        "```\n",
        "\n",
        "## 3. Why Use Numpy?\n",
        "\n",
        "NumPy is widely used in scientific computing and data analysis due to its efficiency and ease of use. It will be especially useful in machine learning tasks where numerical operations are fundamental.\n",
        "\n",
        "Example of NumPy in Machine Learning:\n",
        "\n",
        "In machine learning, NumPy can be used for:\n",
        "\n",
        "\t•\tHandling datasets\n",
        "\t•\tPerforming mathematical computations\n",
        "\t•\tImplementing algorithms\n",
        "---\n",
        "## Exercise: Practice Using NumPy\n",
        "\n",
        "**Instructions:**\n",
        "\n",
        "\t1.\tImport the NumPy library with the alias np.\n",
        "\t2.\tCreate a NumPy array with the values [10, 20, 30, 40, 50].\n",
        "\t3.\tPerform the following operations:\n",
        "            •\tMultiply each element in the array by 2.\n",
        "            •\tCalculate the mean of the array.\n",
        "\t4.\tPrint the results of the operations."
      ]
    },
    {
      "cell_type": "code",
      "execution_count": null,
      "id": "5b198686",
      "metadata": {
        "id": "5b198686"
      },
      "outputs": [],
      "source": [
        "#Your code here"
      ]
    },
    {
      "cell_type": "markdown",
      "id": "0ded4292",
      "metadata": {
        "id": "0ded4292"
      },
      "source": [
        "# Lists and Basic Indexing in Python\n",
        "\n",
        "Lists are one of the most versatile data structures in Python. They are used to store multiple items in a single variable. You can access and manipulate list elements in various ways.\n",
        "\n",
        "## 1. Creating Lists\n",
        "\n",
        "A list is created by placing items inside square brackets `[]`, separated by commas.\n",
        "\n",
        "### Python Example:\n",
        "```python\n",
        "# Creating a list of integers\n",
        "numbers = [1, 2, 3, 4, 5]\n",
        "\n",
        "# Creating a list with mixed data types\n",
        "mixed_list = [1, \"apple\", 3.14, True]\n",
        "```\n",
        "\n",
        "## 2. Accessing List Elements\n",
        "\n",
        "You can access individual elements in a list using their index. Indexing in Python starts from 0.\n",
        "\n",
        "```python\n",
        "# Accessing elements by index\n",
        "numbers = [1, 2, 3, 4, 5]\n",
        "print(numbers[0])  # Output: 1\n",
        "print(numbers[3])  # Output: 4\n",
        "```\n",
        "\n",
        "**Negative Indexing**\n",
        "\n",
        "Negative indices count from the end of the list, with -1 being the last element.\n",
        "```python\n",
        "numbers = [1, 2, 3, 4, 5]\n",
        "print(numbers[-1])  # Output: 5\n",
        "print(numbers[-2])  # Output: 4\n",
        "```\n",
        "\n",
        "## 3. Slicing Lists\n",
        "\n",
        "You can obtain a subset of a list using slicing. The syntax for slicing is [start:stop:step].\n",
        "\n",
        "```python\n",
        "numbers = [1, 2, 3, 4, 5]\n",
        "\n",
        "# Slicing the list\n",
        "subset = numbers[1:4]   # Output: [2, 3, 4]\n",
        "```\n",
        "\n",
        "## 4. Manipulating List Elements\n",
        "\n",
        "You can modify, add, or remove elements from a list.\n",
        "\n",
        "```python\n",
        "numbers = [1, 2, 3, 4, 5]\n",
        "\n",
        "# Modifying an element\n",
        "numbers[2] = 10\n",
        "print(numbers)  # Output: [1, 2, 10, 4, 5]\n",
        "\n",
        "# Adding an element\n",
        "numbers.append(6)\n",
        "print(numbers)  # Output: [1, 2, 10, 4, 5, 6]\n",
        "\n",
        "# Removing an element\n",
        "numbers.remove(10)\n",
        "print(numbers)  # Output: [1, 2, 4, 5, 6]\n",
        "```\n",
        "\n",
        "---\n",
        "## Exercise: Practice Lists and Indexing\n",
        "\n",
        "Instructions:\n",
        "\n",
        "\t1.\tCreate a list named fruits with the following elements: \"apple\", \"banana\", \"cherry\", \"date\".\n",
        "\t2.\tAccess and print the first and last elements of the list.\n",
        "\t3.\tChange the second element to \"blueberry\".\n",
        "\t4.\tAdd \"fig\" to the end of the list.\n",
        "\t5.\tRemove the element \"banana\" from the list.\n",
        "\t6.\tPrint the modified list."
      ]
    },
    {
      "cell_type": "code",
      "execution_count": null,
      "id": "c5a833d5",
      "metadata": {
        "id": "c5a833d5"
      },
      "outputs": [],
      "source": [
        "#Your code here"
      ]
    }
  ],
  "metadata": {
    "kernelspec": {
      "display_name": "Python 3 (ipykernel)",
      "language": "python",
      "name": "python3"
    },
    "language_info": {
      "codemirror_mode": {
        "name": "ipython",
        "version": 3
      },
      "file_extension": ".py",
      "mimetype": "text/x-python",
      "name": "python",
      "nbconvert_exporter": "python",
      "pygments_lexer": "ipython3",
      "version": "3.11.7"
    },
    "colab": {
      "provenance": [],
      "include_colab_link": true
    }
  },
  "nbformat": 4,
  "nbformat_minor": 5
}